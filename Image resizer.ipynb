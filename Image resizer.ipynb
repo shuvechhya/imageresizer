{
 "cells": [
  {
   "cell_type": "code",
   "execution_count": 1,
   "id": "8c3fd1a0",
   "metadata": {},
   "outputs": [],
   "source": [
    "import cv2\n",
    "import numpy as np\n",
    "import matplotlib.pyplot as pltS\n",
    "import tkinter as tk\n",
    "import pyttsx3\n"
   ]
  },
  {
   "cell_type": "code",
   "execution_count": 34,
   "id": "cfe43773",
   "metadata": {
    "scrolled": true
   },
   "outputs": [],
   "source": [
    "from tkinter import filedialog, ttk\n",
    "from PIL import Image, ImageTk\n",
    "from tkinter import simpledialog\n",
    "\n",
    "# Initialize the TTS engine\n",
    "tts = pyttsx3.init()\n",
    "\n",
    "def load_image():\n",
    "    file_path = filedialog.askopenfilename(title=\"Select Image\", filetypes=[(\"JPEG files\", \"*.jfif\")])\n",
    "    original_image = cv2.imread(file_path, 1)\n",
    "    return original_image\n",
    "\n",
    "def convert_to_photo_image(cv_image):\n",
    "    rgb_image = cv2.cvtColor(cv_image, cv2.COLOR_BGR2RGB)\n",
    "    pil_image = Image.fromarray(rgb_image)\n",
    "    photo_image = ImageTk.PhotoImage(pil_image)\n",
    "    return photo_image\n",
    "\n",
    "def process_and_display():\n",
    "    original_image = load_image()\n",
    "\n",
    "   # Choose the resizing method based on the selected option\n",
    "    resize_method = resize_var.get()\n",
    "    if resize_method == 'Half':\n",
    "        resized_image = cv2.resize(original_image, (0, 0), fx=0.5, fy=0.5)\n",
    "    elif resize_method == 'Double':\n",
    "        resized_image = cv2.resize(original_image, (0, 0), fx=2, fy=2)\n",
    "    elif resize_method == 'Strech near':\n",
    "        resized_image=cv2.resize(original_image, (780, 540), interpolation = cv2.INTER_LINEAR)\n",
    "    else:\n",
    "        print(\"Invalid resizing method. Using default (Half).\")\n",
    "        resized_image = cv2.resize(original_image, (0, 0), fx=0.5, fy=0.5)\n",
    "\n",
    "    resized_photo_image = convert_to_photo_image(resized_image)\n",
    "    label.config(image=resized_photo_image)\n",
    "    label.image = resized_photo_image\n",
    "    label.place(x=575,y=100)\n",
    "\n",
    "# Create the main application window\n",
    "root = tk.Tk()\n",
    "root.title(\"Image Processing Window\")\n",
    "\n",
    "# Add a Combobox for resizing options\n",
    "resize_options = ['Half', 'Double', 'Strech near']\n",
    "resize_var = tk.StringVar(value='Half')  # Set default option to 'Half'\n",
    "resize_combobox = ttk.Combobox(root, textvariable=resize_var, values=resize_options)\n",
    "resize_combobox.pack(pady=10)\n",
    "resize_combobox.place(x=575,y=50)\n",
    "\n",
    "# Add a button to load and process the image\n",
    "load_button = tk.Button(root, text=\"Load and Process Image\", command=process_and_display)\n",
    "load_button.pack(pady=10)\n",
    "\n",
    "# Create a label for displaying the image\n",
    "label = tk.Label(root)\n",
    "label.pack()\n",
    "\n",
    "# Run the Tkinter event loop\n",
    "root.mainloop()\n"
   ]
  },
  {
   "cell_type": "code",
   "execution_count": 27,
   "id": "30f72cbf",
   "metadata": {},
   "outputs": [],
   "source": []
  },
  {
   "cell_type": "code",
   "execution_count": null,
   "id": "606bfa75",
   "metadata": {},
   "outputs": [],
   "source": []
  }
 ],
 "metadata": {
  "kernelspec": {
   "display_name": "Python 3 (ipykernel)",
   "language": "python",
   "name": "python3"
  },
  "language_info": {
   "codemirror_mode": {
    "name": "ipython",
    "version": 3
   },
   "file_extension": ".py",
   "mimetype": "text/x-python",
   "name": "python",
   "nbconvert_exporter": "python",
   "pygments_lexer": "ipython3",
   "version": "3.10.9"
  }
 },
 "nbformat": 4,
 "nbformat_minor": 5
}
